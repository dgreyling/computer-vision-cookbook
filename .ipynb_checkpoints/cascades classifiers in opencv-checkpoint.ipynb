{
 "cells": [
  {
   "cell_type": "markdown",
   "metadata": {},
   "source": [
    "## Cascades Classifier Models for Object Detection\n",
    "\n",
    "- [opencv example](http://docs.opencv.org/master/d7/d8b/tutorial_py_face_detection.html#gsc.tab=0)\n",
    "- [boosted cascades repository](http://www.vision-ary.net/2015/03/largest-boosted-cascades-opencv-lbp-haar-hog/)\n",
    "- [how to train you own cascade model - from mathworks](http://www.mathworks.com/help/vision/ug/train-a-cascade-object-detector.html)\n",
    "- [another how to train your ~~dragon~~ model](http://www.pyimagesearch.com/2014/11/10/histogram-oriented-gradients-object-detection/)"
   ]
  },
  {
   "cell_type": "code",
   "execution_count": null,
   "metadata": {
    "collapsed": true
   },
   "outputs": [],
   "source": []
  }
 ],
 "metadata": {
  "kernelspec": {
   "display_name": "Python 2",
   "language": "python",
   "name": "python2"
  },
  "language_info": {
   "codemirror_mode": {
    "name": "ipython",
    "version": 2
   },
   "file_extension": ".py",
   "mimetype": "text/x-python",
   "name": "python",
   "nbconvert_exporter": "python",
   "pygments_lexer": "ipython2",
   "version": "2.7.6"
  }
 },
 "nbformat": 4,
 "nbformat_minor": 0
}
