{
 "cells": [
  {
   "cell_type": "markdown",
   "metadata": {},
   "source": [
    "## Granulometry with morphology opening\n",
    "\n",
    "- Wiki defines [Granulometry](https://en.wikipedia.org/wiki/Granulometry) as the measurement of the size distribution in a collection of grains, i.e., calculating the size of snow flakes.\n",
    "- [this article](http://www.mathworks.com/help/images/examples/granulometry-of-snowflakes.html) from matlab examples talked about determining the size distribution ***without explicitly segmenting/detecting each object first***."
   ]
  },
  {
   "cell_type": "code",
   "execution_count": null,
   "metadata": {
    "collapsed": true
   },
   "outputs": [],
   "source": []
  }
 ],
 "metadata": {
  "kernelspec": {
   "display_name": "Python 2",
   "language": "python",
   "name": "python2"
  },
  "language_info": {
   "codemirror_mode": {
    "name": "ipython",
    "version": 2
   },
   "file_extension": ".py",
   "mimetype": "text/x-python",
   "name": "python",
   "nbconvert_exporter": "python",
   "pygments_lexer": "ipython2",
   "version": "2.7.6"
  }
 },
 "nbformat": 4,
 "nbformat_minor": 0
}
